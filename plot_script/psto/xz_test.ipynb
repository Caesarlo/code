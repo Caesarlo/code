{
 "cells": [
  {
   "cell_type": "markdown",
   "metadata": {},
   "source": [
    "# 读取 .xyz文件 处理不同温度下稳定的结构\n",
    "\n",
    "每10000帧保存一个温度的结构\n",
    "\n",
    "## 处理流程\n",
    "1. 读取1-trajectory.xyz\n",
    "2. 每10000帧提取一次结构（初始温度0k，共25步，步长25k）\n",
    "3. 处理每帧数据，延y轴切面，构建xz面\n",
    "4. 因原子不在统一xz平面，根据间隔范围，选取平面\n",
    "5. 根据选取的平面，构建xz面，计算偏移向量\n",
    "6. 根据偏移向量，构建热力图\n",
    "7. 根据热力图，绘制箭头\n",
    "\n"
   ]
  },
  {
   "cell_type": "code",
   "execution_count": 1,
   "metadata": {},
   "outputs": [],
   "source": [
    "import numpy as np\n",
    "import yaml\n",
    "import json\n",
    "import os\n",
    "import matplotlib.pyplot as plt\n",
    "import pandas as pd\n",
    "import numpy.typing as npt\n",
    "import seaborn as sns\n",
    "\n",
    "from MDAnalysis import Universe\n",
    "from dataclasses import dataclass\n",
    "from pymatgen.core import Structure\n",
    "from pymatgen.io.vasp import Poscar\n",
    "from matplotlib import gridspec\n",
    "from caesar.logger.logger import setup_logger\n",
    "from pathlib import Path\n",
    "from typing import List, Dict, Any, Tuple\n",
    "from matplotlib import rcParams\n",
    "\n",
    "\n",
    "config = {\n",
    "    \"font.family\": 'serif',\n",
    "    # \"font.size\": 20,\n",
    "    \"mathtext.fontset\": 'stix',\n",
    "    \"font.serif\": ['SimSun'],\n",
    "}\n",
    "rcParams.update(config)\n",
    "\n",
    "\n",
    "logger = setup_logger(__name__)"
   ]
  },
  {
   "cell_type": "code",
   "execution_count": 38,
   "metadata": {},
   "outputs": [],
   "source": [
    "xyzfile='./data/1-trajectory.xyz'"
   ]
  },
  {
   "cell_type": "code",
   "execution_count": 3,
   "metadata": {},
   "outputs": [],
   "source": [
    "# 构建原始坐标\n",
    "def build_pm3m_coord():\n",
    "    pm3m_Ti_coord=[]\n",
    "    lattice_constance=3.9127\n",
    "    for i in range(40):\n",
    "        for j in range(20):\n",
    "            for k in range(20):\n",
    "                pm3m_Ti_coord.append([lattice_constance*i,lattice_constance*j,lattice_constance*k])\n",
    "    \n",
    "    return np.array(pm3m_Ti_coord)\n",
    "\n",
    "pm3m_Ti_coord=build_pm3m_coord()\n",
    "\n",
    "with open('./data/pm3m_Ti_coord.npy','wb') as f:\n",
    "    np.save(f,pm3m_Ti_coord)\n",
    "\n",
    "\n"
   ]
  },
  {
   "cell_type": "code",
   "execution_count": 9,
   "metadata": {},
   "outputs": [
    {
     "name": "stdout",
     "output_type": "stream",
     "text": [
      "[\u001b[32m2025-02-17 22:42:38.590075\u001b[0m \u001b[1m\u001b[97mINFO   \u001b[0m] \u001b[36m1279643876\u001b[0m:\u001b[36mextract_timesteps\u001b[0m:\u001b[36m50\u001b[0m - \u001b[1m\u001b[97m生成文件: ./data/frames/frame_0.dat (包含 80000 行原子数据)\u001b[0m\n"
     ]
    },
    {
     "name": "stdout",
     "output_type": "stream",
     "text": [
      "[\u001b[32m2025-02-17 22:42:39.425258\u001b[0m \u001b[1m\u001b[97mINFO   \u001b[0m] \u001b[36m1279643876\u001b[0m:\u001b[36mextract_timesteps\u001b[0m:\u001b[36m50\u001b[0m - \u001b[1m\u001b[97m生成文件: ./data/frames/frame_10000.dat (包含 80000 行原子数据)\u001b[0m\n",
      "[\u001b[32m2025-02-17 22:42:40.297253\u001b[0m \u001b[1m\u001b[97mINFO   \u001b[0m] \u001b[36m1279643876\u001b[0m:\u001b[36mextract_timesteps\u001b[0m:\u001b[36m50\u001b[0m - \u001b[1m\u001b[97m生成文件: ./data/frames/frame_20000.dat (包含 80000 行原子数据)\u001b[0m\n",
      "[\u001b[32m2025-02-17 22:42:41.165167\u001b[0m \u001b[1m\u001b[97mINFO   \u001b[0m] \u001b[36m1279643876\u001b[0m:\u001b[36mextract_timesteps\u001b[0m:\u001b[36m50\u001b[0m - \u001b[1m\u001b[97m生成文件: ./data/frames/frame_30000.dat (包含 80000 行原子数据)\u001b[0m\n",
      "[\u001b[32m2025-02-17 22:42:42.019126\u001b[0m \u001b[1m\u001b[97mINFO   \u001b[0m] \u001b[36m1279643876\u001b[0m:\u001b[36mextract_timesteps\u001b[0m:\u001b[36m50\u001b[0m - \u001b[1m\u001b[97m生成文件: ./data/frames/frame_40000.dat (包含 80000 行原子数据)\u001b[0m\n",
      "[\u001b[32m2025-02-17 22:42:42.888357\u001b[0m \u001b[1m\u001b[97mINFO   \u001b[0m] \u001b[36m1279643876\u001b[0m:\u001b[36mextract_timesteps\u001b[0m:\u001b[36m50\u001b[0m - \u001b[1m\u001b[97m生成文件: ./data/frames/frame_50000.dat (包含 80000 行原子数据)\u001b[0m\n",
      "[\u001b[32m2025-02-17 22:42:43.704174\u001b[0m \u001b[1m\u001b[97mINFO   \u001b[0m] \u001b[36m1279643876\u001b[0m:\u001b[36mextract_timesteps\u001b[0m:\u001b[36m50\u001b[0m - \u001b[1m\u001b[97m生成文件: ./data/frames/frame_60000.dat (包含 80000 行原子数据)\u001b[0m\n",
      "[\u001b[32m2025-02-17 22:42:44.501670\u001b[0m \u001b[1m\u001b[97mINFO   \u001b[0m] \u001b[36m1279643876\u001b[0m:\u001b[36mextract_timesteps\u001b[0m:\u001b[36m50\u001b[0m - \u001b[1m\u001b[97m生成文件: ./data/frames/frame_70000.dat (包含 80000 行原子数据)\u001b[0m\n",
      "[\u001b[32m2025-02-17 22:42:45.324219\u001b[0m \u001b[1m\u001b[97mINFO   \u001b[0m] \u001b[36m1279643876\u001b[0m:\u001b[36mextract_timesteps\u001b[0m:\u001b[36m50\u001b[0m - \u001b[1m\u001b[97m生成文件: ./data/frames/frame_80000.dat (包含 80000 行原子数据)\u001b[0m\n",
      "[\u001b[32m2025-02-17 22:42:46.110501\u001b[0m \u001b[1m\u001b[97mINFO   \u001b[0m] \u001b[36m1279643876\u001b[0m:\u001b[36mextract_timesteps\u001b[0m:\u001b[36m50\u001b[0m - \u001b[1m\u001b[97m生成文件: ./data/frames/frame_90000.dat (包含 80000 行原子数据)\u001b[0m\n",
      "[\u001b[32m2025-02-17 22:42:46.939806\u001b[0m \u001b[1m\u001b[97mINFO   \u001b[0m] \u001b[36m1279643876\u001b[0m:\u001b[36mextract_timesteps\u001b[0m:\u001b[36m50\u001b[0m - \u001b[1m\u001b[97m生成文件: ./data/frames/frame_100000.dat (包含 80000 行原子数据)\u001b[0m\n",
      "[\u001b[32m2025-02-17 22:42:47.773681\u001b[0m \u001b[1m\u001b[97mINFO   \u001b[0m] \u001b[36m1279643876\u001b[0m:\u001b[36mextract_timesteps\u001b[0m:\u001b[36m50\u001b[0m - \u001b[1m\u001b[97m生成文件: ./data/frames/frame_110000.dat (包含 80000 行原子数据)\u001b[0m\n",
      "[\u001b[32m2025-02-17 22:42:48.625666\u001b[0m \u001b[1m\u001b[97mINFO   \u001b[0m] \u001b[36m1279643876\u001b[0m:\u001b[36mextract_timesteps\u001b[0m:\u001b[36m50\u001b[0m - \u001b[1m\u001b[97m生成文件: ./data/frames/frame_120000.dat (包含 80000 行原子数据)\u001b[0m\n",
      "[\u001b[32m2025-02-17 22:42:49.519517\u001b[0m \u001b[1m\u001b[97mINFO   \u001b[0m] \u001b[36m1279643876\u001b[0m:\u001b[36mextract_timesteps\u001b[0m:\u001b[36m50\u001b[0m - \u001b[1m\u001b[97m生成文件: ./data/frames/frame_130000.dat (包含 80000 行原子数据)\u001b[0m\n",
      "[\u001b[32m2025-02-17 22:42:50.328939\u001b[0m \u001b[1m\u001b[97mINFO   \u001b[0m] \u001b[36m1279643876\u001b[0m:\u001b[36mextract_timesteps\u001b[0m:\u001b[36m50\u001b[0m - \u001b[1m\u001b[97m生成文件: ./data/frames/frame_140000.dat (包含 80000 行原子数据)\u001b[0m\n",
      "[\u001b[32m2025-02-17 22:42:51.163047\u001b[0m \u001b[1m\u001b[97mINFO   \u001b[0m] \u001b[36m1279643876\u001b[0m:\u001b[36mextract_timesteps\u001b[0m:\u001b[36m50\u001b[0m - \u001b[1m\u001b[97m生成文件: ./data/frames/frame_150000.dat (包含 80000 行原子数据)\u001b[0m\n",
      "[\u001b[32m2025-02-17 22:42:51.954057\u001b[0m \u001b[1m\u001b[97mINFO   \u001b[0m] \u001b[36m1279643876\u001b[0m:\u001b[36mextract_timesteps\u001b[0m:\u001b[36m50\u001b[0m - \u001b[1m\u001b[97m生成文件: ./data/frames/frame_160000.dat (包含 80000 行原子数据)\u001b[0m\n",
      "[\u001b[32m2025-02-17 22:42:52.752283\u001b[0m \u001b[1m\u001b[97mINFO   \u001b[0m] \u001b[36m1279643876\u001b[0m:\u001b[36mextract_timesteps\u001b[0m:\u001b[36m50\u001b[0m - \u001b[1m\u001b[97m生成文件: ./data/frames/frame_170000.dat (包含 80000 行原子数据)\u001b[0m\n",
      "[\u001b[32m2025-02-17 22:42:53.621751\u001b[0m \u001b[1m\u001b[97mINFO   \u001b[0m] \u001b[36m1279643876\u001b[0m:\u001b[36mextract_timesteps\u001b[0m:\u001b[36m50\u001b[0m - \u001b[1m\u001b[97m生成文件: ./data/frames/frame_180000.dat (包含 80000 行原子数据)\u001b[0m\n",
      "[\u001b[32m2025-02-17 22:42:54.481125\u001b[0m \u001b[1m\u001b[97mINFO   \u001b[0m] \u001b[36m1279643876\u001b[0m:\u001b[36mextract_timesteps\u001b[0m:\u001b[36m50\u001b[0m - \u001b[1m\u001b[97m生成文件: ./data/frames/frame_190000.dat (包含 80000 行原子数据)\u001b[0m\n",
      "[\u001b[32m2025-02-17 22:42:55.322466\u001b[0m \u001b[1m\u001b[97mINFO   \u001b[0m] \u001b[36m1279643876\u001b[0m:\u001b[36mextract_timesteps\u001b[0m:\u001b[36m50\u001b[0m - \u001b[1m\u001b[97m生成文件: ./data/frames/frame_200000.dat (包含 80000 行原子数据)\u001b[0m\n",
      "[\u001b[32m2025-02-17 22:42:56.140170\u001b[0m \u001b[1m\u001b[97mINFO   \u001b[0m] \u001b[36m1279643876\u001b[0m:\u001b[36mextract_timesteps\u001b[0m:\u001b[36m50\u001b[0m - \u001b[1m\u001b[97m生成文件: ./data/frames/frame_210000.dat (包含 80000 行原子数据)\u001b[0m\n",
      "[\u001b[32m2025-02-17 22:42:57.033341\u001b[0m \u001b[1m\u001b[97mINFO   \u001b[0m] \u001b[36m1279643876\u001b[0m:\u001b[36mextract_timesteps\u001b[0m:\u001b[36m50\u001b[0m - \u001b[1m\u001b[97m生成文件: ./data/frames/frame_220000.dat (包含 80000 行原子数据)\u001b[0m\n",
      "[\u001b[32m2025-02-17 22:42:57.853240\u001b[0m \u001b[1m\u001b[97mINFO   \u001b[0m] \u001b[36m1279643876\u001b[0m:\u001b[36mextract_timesteps\u001b[0m:\u001b[36m50\u001b[0m - \u001b[1m\u001b[97m生成文件: ./data/frames/frame_230000.dat (包含 80000 行原子数据)\u001b[0m\n",
      "[\u001b[32m2025-02-17 22:42:58.658870\u001b[0m \u001b[1m\u001b[97mINFO   \u001b[0m] \u001b[36m1279643876\u001b[0m:\u001b[36mextract_timesteps\u001b[0m:\u001b[36m50\u001b[0m - \u001b[1m\u001b[97m生成文件: ./data/frames/frame_240000.dat (包含 80000 行原子数据)\u001b[0m\n",
      "[\u001b[32m2025-02-17 22:42:59.525765\u001b[0m \u001b[1m\u001b[97mINFO   \u001b[0m] \u001b[36m1279643876\u001b[0m:\u001b[36mextract_timesteps\u001b[0m:\u001b[36m50\u001b[0m - \u001b[1m\u001b[97m生成文件: ./data/frames/frame_250000.dat (包含 80000 行原子数据)\u001b[0m\n",
      "[\u001b[32m2025-02-17 22:43:00.338177\u001b[0m \u001b[1m\u001b[97mINFO   \u001b[0m] \u001b[36m1279643876\u001b[0m:\u001b[36mextract_timesteps\u001b[0m:\u001b[36m50\u001b[0m - \u001b[1m\u001b[97m生成文件: ./data/frames/frame_260000.dat (包含 80000 行原子数据)\u001b[0m\n",
      "[\u001b[32m2025-02-17 22:43:01.190670\u001b[0m \u001b[1m\u001b[97mINFO   \u001b[0m] \u001b[36m1279643876\u001b[0m:\u001b[36mextract_timesteps\u001b[0m:\u001b[36m50\u001b[0m - \u001b[1m\u001b[97m生成文件: ./data/frames/frame_270000.dat (包含 80000 行原子数据)\u001b[0m\n",
      "[\u001b[32m2025-02-17 22:43:02.069991\u001b[0m \u001b[1m\u001b[97mINFO   \u001b[0m] \u001b[36m1279643876\u001b[0m:\u001b[36mextract_timesteps\u001b[0m:\u001b[36m50\u001b[0m - \u001b[1m\u001b[97m生成文件: ./data/frames/frame_280000.dat (包含 80000 行原子数据)\u001b[0m\n"
     ]
    }
   ],
   "source": [
    "def extract_timesteps(input_file, output_dir):\n",
    "    # 创建输出目录\n",
    "    os.makedirs(output_dir, exist_ok=True)\n",
    "    \n",
    "    with open(input_file, 'r') as f_in:\n",
    "        frame_count = 0\n",
    "        while True:\n",
    "            # 跳过原子数量行\n",
    "            n_atoms_line = f_in.readline()\n",
    "            if not n_atoms_line:  # 文件结束\n",
    "                logger.error('文件结束')\n",
    "                break\n",
    "            \n",
    "            # 读取并解析Timestep行\n",
    "            timestep_line = f_in.readline()\n",
    "            if not timestep_line:\n",
    "                logger.error('文件结束')\n",
    "                break\n",
    "            \n",
    "            try:\n",
    "                ts_value = int(timestep_line.strip().split()[-1])\n",
    "            except (IndexError, ValueError):\n",
    "                logger.exception(f\"跳过无效时间步: {timestep_line.strip()}\")\n",
    "                continue\n",
    "\n",
    "            # 验证原子数量格式\n",
    "            try:\n",
    "                n_atoms = int(n_atoms_line.strip())\n",
    "            except ValueError:\n",
    "                logger.exception(f\"无效原子数: {n_atoms_line.strip()}\")\n",
    "                continue\n",
    "\n",
    "            # 读取原子数据块\n",
    "            data_lines = []\n",
    "            valid_block = True\n",
    "            for _ in range(n_atoms):\n",
    "                if (data_line := f_in.readline()):\n",
    "                    data_lines.append(data_line)\n",
    "                else:\n",
    "                    valid_block = False\n",
    "                    break\n",
    "            \n",
    "            if not valid_block:\n",
    "                break\n",
    "\n",
    "            # 筛选时间步\n",
    "            if ts_value % 10000 == 0:\n",
    "                # 生成纯数据文件\n",
    "                output_path = os.path.join(output_dir, f\"frame_{ts_value}.dat\")\n",
    "                with open(output_path, 'w') as f_out:\n",
    "                    f_out.writelines(data_lines)\n",
    "                logger.info(f\"生成文件: {output_path} (包含 {len(data_lines)} 行原子数据)\")\n",
    "\n",
    "extract_timesteps(xyzfile, \"./data/frames/\")\n"
   ]
  },
  {
   "cell_type": "code",
   "execution_count": 16,
   "metadata": {},
   "outputs": [],
   "source": [
    "# 原子种类\n",
    "atom_species_dict = {\n",
    "    1: 'Pb',\n",
    "    2: 'Sr',\n",
    "    3: 'Ti',\n",
    "    4: 'O'\n",
    "}"
   ]
  },
  {
   "cell_type": "code",
   "execution_count": 2,
   "metadata": {},
   "outputs": [
    {
     "data": {
      "text/plain": [
       "array([[  1.     ,   5.85735,   1.95245,  76.4917 ],\n",
       "       [  1.     ,   1.95245,   5.85735,  76.4917 ],\n",
       "       [  1.     ,   1.95245,   1.95245,  76.4917 ],\n",
       "       ...,\n",
       "       [  4.     , 154.244  ,  77.934  ,   0.     ],\n",
       "       [  4.     , 150.339  ,  70.4522 ,   0.     ],\n",
       "       [  4.     , 154.244  ,  74.3571 ,   0.     ]])"
      ]
     },
     "execution_count": 2,
     "metadata": {},
     "output_type": "execute_result"
    }
   ],
   "source": [
    "def read_frame_data(frame_path):\n",
    "    with open(frame_path, 'r') as f_in:\n",
    "        data_lines = [[float(j) for j in i.strip().split()] for i in f_in.readlines()]\n",
    "    return np.array(data_lines)\n",
    "\n",
    "data_frame=read_frame_data('./data/frames/frame_0.dat')\n",
    "data_frame"
   ]
  },
  {
   "cell_type": "code",
   "execution_count": 17,
   "metadata": {},
   "outputs": [
    {
     "name": "stdout",
     "output_type": "stream",
     "text": [
      "[\u001b[32m2025-02-18 10:07:22.012436\u001b[0m \u001b[1m\u001b[97mINFO   \u001b[0m] \u001b[36m1179880839\u001b[0m:\u001b[36mprocess_polarization\u001b[0m:\u001b[36m78\u001b[0m - \u001b[1m\u001b[97m晶面分布分析：\u001b[0m\n",
      "[\u001b[32m2025-02-18 10:07:22.013435\u001b[0m \u001b[1m\u001b[97mINFO   \u001b[0m] \u001b[36m1179880839\u001b[0m:\u001b[36mprocess_polarization\u001b[0m:\u001b[36m79\u001b[0m - \u001b[1m\u001b[97m晶面        Y范围        原子数      X平均     Y平均     Z平均    \u001b[0m\n",
      "[\u001b[32m2025-02-18 10:07:22.013435\u001b[0m \u001b[1m\u001b[97mINFO   \u001b[0m] \u001b[36m1179880839\u001b[0m:\u001b[36mprocess_polarization\u001b[0m:\u001b[36m81\u001b[0m - \u001b[1m\u001b[97m000  [0.000  ,   0.000]  800       76.146    0.000    37.265\u001b[0m\n",
      "[\u001b[32m2025-02-18 10:07:22.014436\u001b[0m \u001b[1m\u001b[97mINFO   \u001b[0m] \u001b[36m1179880839\u001b[0m:\u001b[36mprocess_polarization\u001b[0m:\u001b[36m81\u001b[0m - \u001b[1m\u001b[97m001  [0.000  ,   0.500]  800       76.146    0.000    37.265\u001b[0m\n",
      "[\u001b[32m2025-02-18 10:07:22.014436\u001b[0m \u001b[1m\u001b[97mINFO   \u001b[0m] \u001b[36m1179880839\u001b[0m:\u001b[36mprocess_polarization\u001b[0m:\u001b[36m81\u001b[0m - \u001b[1m\u001b[97m002  [3.413  ,   4.413]  800       76.146    3.905    37.265\u001b[0m\n",
      "[\u001b[32m2025-02-18 10:07:22.014901\u001b[0m \u001b[1m\u001b[97mINFO   \u001b[0m] \u001b[36m1179880839\u001b[0m:\u001b[36mprocess_polarization\u001b[0m:\u001b[36m81\u001b[0m - \u001b[1m\u001b[97m003  [7.325  ,   8.325]  800       76.146    7.810    37.265\u001b[0m\n",
      "[\u001b[32m2025-02-18 10:07:22.014901\u001b[0m \u001b[1m\u001b[97mINFO   \u001b[0m] \u001b[36m1179880839\u001b[0m:\u001b[36mprocess_polarization\u001b[0m:\u001b[36m81\u001b[0m - \u001b[1m\u001b[97m004  [11.238 ,  12.238]  800       76.146    11.715    37.265\u001b[0m\n",
      "[\u001b[32m2025-02-18 10:07:22.014901\u001b[0m \u001b[1m\u001b[97mINFO   \u001b[0m] \u001b[36m1179880839\u001b[0m:\u001b[36mprocess_polarization\u001b[0m:\u001b[36m81\u001b[0m - \u001b[1m\u001b[97m005  [15.151 ,  16.151]  800       76.146    15.620    37.265\u001b[0m\n",
      "[\u001b[32m2025-02-18 10:07:22.014901\u001b[0m \u001b[1m\u001b[97mINFO   \u001b[0m] \u001b[36m1179880839\u001b[0m:\u001b[36mprocess_polarization\u001b[0m:\u001b[36m81\u001b[0m - \u001b[1m\u001b[97m006  [19.064 ,  20.064]  800       76.146    19.524    37.265\u001b[0m\n",
      "[\u001b[32m2025-02-18 10:07:22.014901\u001b[0m \u001b[1m\u001b[97mINFO   \u001b[0m] \u001b[36m1179880839\u001b[0m:\u001b[36mprocess_polarization\u001b[0m:\u001b[36m81\u001b[0m - \u001b[1m\u001b[97m007  [22.976 ,  23.976]  800       76.146    23.429    37.265\u001b[0m\n",
      "[\u001b[32m2025-02-18 10:07:22.014901\u001b[0m \u001b[1m\u001b[97mINFO   \u001b[0m] \u001b[36m1179880839\u001b[0m:\u001b[36mprocess_polarization\u001b[0m:\u001b[36m81\u001b[0m - \u001b[1m\u001b[97m008  [26.889 ,  27.889]  800       76.146    27.334    37.265\u001b[0m\n",
      "[\u001b[32m2025-02-18 10:07:22.014901\u001b[0m \u001b[1m\u001b[97mINFO   \u001b[0m] \u001b[36m1179880839\u001b[0m:\u001b[36mprocess_polarization\u001b[0m:\u001b[36m81\u001b[0m - \u001b[1m\u001b[97m009  [30.802 ,  31.802]  800       76.146    31.239    37.265\u001b[0m\n",
      "[\u001b[32m2025-02-18 10:07:22.014901\u001b[0m \u001b[1m\u001b[97mINFO   \u001b[0m] \u001b[36m1179880839\u001b[0m:\u001b[36mprocess_polarization\u001b[0m:\u001b[36m81\u001b[0m - \u001b[1m\u001b[97m010  [34.714 ,  35.714]  800       76.146    35.144    37.265\u001b[0m\n",
      "[\u001b[32m2025-02-18 10:07:22.014901\u001b[0m \u001b[1m\u001b[97mINFO   \u001b[0m] \u001b[36m1179880839\u001b[0m:\u001b[36mprocess_polarization\u001b[0m:\u001b[36m81\u001b[0m - \u001b[1m\u001b[97m011  [38.627 ,  39.627]  800       76.146    39.049    37.265\u001b[0m\n",
      "[\u001b[32m2025-02-18 10:07:22.014901\u001b[0m \u001b[1m\u001b[97mINFO   \u001b[0m] \u001b[36m1179880839\u001b[0m:\u001b[36mprocess_polarization\u001b[0m:\u001b[36m81\u001b[0m - \u001b[1m\u001b[97m012  [42.540 ,  43.540]  800       76.146    42.954    37.265\u001b[0m\n",
      "[\u001b[32m2025-02-18 10:07:22.014901\u001b[0m \u001b[1m\u001b[97mINFO   \u001b[0m] \u001b[36m1179880839\u001b[0m:\u001b[36mprocess_polarization\u001b[0m:\u001b[36m81\u001b[0m - \u001b[1m\u001b[97m013  [46.452 ,  47.452]  800       76.146    46.859    37.265\u001b[0m\n",
      "[\u001b[32m2025-02-18 10:07:22.014901\u001b[0m \u001b[1m\u001b[97mINFO   \u001b[0m] \u001b[36m1179880839\u001b[0m:\u001b[36mprocess_polarization\u001b[0m:\u001b[36m81\u001b[0m - \u001b[1m\u001b[97m014  [50.365 ,  51.365]  800       76.146    50.764    37.265\u001b[0m\n",
      "[\u001b[32m2025-02-18 10:07:22.014901\u001b[0m \u001b[1m\u001b[97mINFO   \u001b[0m] \u001b[36m1179880839\u001b[0m:\u001b[36mprocess_polarization\u001b[0m:\u001b[36m81\u001b[0m - \u001b[1m\u001b[97m015  [54.278 ,  55.278]  800       76.146    54.669    37.265\u001b[0m\n",
      "[\u001b[32m2025-02-18 10:07:22.014901\u001b[0m \u001b[1m\u001b[97mINFO   \u001b[0m] \u001b[36m1179880839\u001b[0m:\u001b[36mprocess_polarization\u001b[0m:\u001b[36m81\u001b[0m - \u001b[1m\u001b[97m016  [58.191 ,  59.191]  800       76.146    58.573    37.265\u001b[0m\n",
      "[\u001b[32m2025-02-18 10:07:22.021336\u001b[0m \u001b[1m\u001b[97mINFO   \u001b[0m] \u001b[36m1179880839\u001b[0m:\u001b[36mprocess_polarization\u001b[0m:\u001b[36m81\u001b[0m - \u001b[1m\u001b[97m017  [62.103 ,  63.103]  800       76.146    62.478    37.265\u001b[0m\n",
      "[\u001b[32m2025-02-18 10:07:22.021336\u001b[0m \u001b[1m\u001b[97mINFO   \u001b[0m] \u001b[36m1179880839\u001b[0m:\u001b[36mprocess_polarization\u001b[0m:\u001b[36m81\u001b[0m - \u001b[1m\u001b[97m018  [66.016 ,  67.016]  800       76.146    66.383    37.265\u001b[0m\n",
      "[\u001b[32m2025-02-18 10:07:22.022342\u001b[0m \u001b[1m\u001b[97mINFO   \u001b[0m] \u001b[36m1179880839\u001b[0m:\u001b[36mprocess_polarization\u001b[0m:\u001b[36m81\u001b[0m - \u001b[1m\u001b[97m019  [69.929 ,  70.929]  800       76.146    70.288    37.265\u001b[0m\n",
      "[\u001b[32m2025-02-18 10:07:22.022342\u001b[0m \u001b[1m\u001b[97mINFO   \u001b[0m] \u001b[36m1179880839\u001b[0m:\u001b[36mprocess_polarization\u001b[0m:\u001b[36m81\u001b[0m - \u001b[1m\u001b[97m020  [73.841 ,  74.193]  800       76.146    74.193    37.265\u001b[0m\n",
      "[\u001b[32m2025-02-18 10:07:22.023342\u001b[0m \u001b[1m\u001b[97mINFO   \u001b[0m] \u001b[36m1179880839\u001b[0m:\u001b[36mprocess_polarization\u001b[0m:\u001b[36m81\u001b[0m - \u001b[1m\u001b[97m021  [74.193 ,  74.193]  800       76.146    74.193    37.265\u001b[0m\n"
     ]
    }
   ],
   "source": [
    "import numpy as np\n",
    "import os\n",
    "\n",
    "def lattice_slicing(y_coords, lattice_constant=3.9127, tolerance=0.5):\n",
    "    \"\"\"\n",
    "    晶格参数分区生成器\n",
    "    参数：\n",
    "    y_coords: y坐标数组\n",
    "    lattice_constant: 晶格常数 (Å)\n",
    "    tolerance: 允许波动范围 (±值)\n",
    "    \"\"\"\n",
    "    y_min, y_max = np.min(y_coords), np.max(y_coords)\n",
    "    \n",
    "    # 计算有效晶面数量\n",
    "    n_min = int(np.floor((y_min - tolerance) / lattice_constant))\n",
    "    n_max = int(np.ceil((y_max + tolerance) / lattice_constant))\n",
    "    \n",
    "    # 生成晶面中心坐标\n",
    "    centers = np.arange(n_min, n_max+1) * lattice_constant\n",
    "    \n",
    "    # 生成边界区间\n",
    "    bin_edges = np.sort(np.concatenate([\n",
    "        centers - tolerance,\n",
    "        centers + tolerance\n",
    "    ]))\n",
    "    \n",
    "    # 限制在实际坐标范围内\n",
    "    return np.clip(bin_edges, y_min, y_max)\n",
    "\n",
    "def process_polarization(data_array, atom_type=3, output_dir=\"./lattice_slices\"):\n",
    "    # 筛选目标原子\n",
    "    filtered = data_array[data_array[:,0] == atom_type]\n",
    "    if len(filtered) == 0:\n",
    "        logger.warning(f\"未找到类型 {atom_type} 的原子\")\n",
    "        return\n",
    "    \n",
    "    y_coords = filtered[:,2]\n",
    "    \n",
    "    # 生成晶格分区\n",
    "    bin_edges = lattice_slicing(y_coords)\n",
    "    num_slices = len(bin_edges) // 2  # 每个晶面对应两个边界\n",
    "    \n",
    "    # 创建输出目录\n",
    "    os.makedirs(output_dir, exist_ok=True)\n",
    "    \n",
    "    # 保存每个晶面\n",
    "    results = []\n",
    "    for i in range(num_slices):\n",
    "        y_start = bin_edges[2*i]\n",
    "        y_end = bin_edges[2*i+1]\n",
    "        \n",
    "        # 筛选区间原子\n",
    "        mask = (y_coords >= y_start) & (y_coords <= y_end)\n",
    "        slice_data = filtered[mask]\n",
    "        \n",
    "        # 生成文件名\n",
    "        filename = f\"plane_{i:02d}_y_{y_start:.3f}-{y_end:.3f}.dat\"\n",
    "        filepath = os.path.join(output_dir, filename)\n",
    "        \n",
    "        # 保存完整坐标数据\n",
    "        np.savetxt(filepath, \n",
    "                 slice_data[:, 1:4],  # x,y,z 三列\n",
    "                 fmt='%.5f',\n",
    "                 header=f\"Lattice plane {i}\\nY range: [{y_start:.3f}, {y_end:.3f}]\\nX\\tY\\tZ\",\n",
    "                 comments='')\n",
    "        \n",
    "        # 记录统计信息\n",
    "        results.append({\n",
    "            \"plane\": i,\n",
    "            \"y_range\": (y_start, y_end),\n",
    "            \"atom_count\": len(slice_data),\n",
    "            \"x_mean\": slice_data[:,1].mean(),\n",
    "            \"y_mean\": slice_data[:,2].mean(),\n",
    "            \"z_mean\": slice_data[:,3].mean()\n",
    "        })\n",
    "    \n",
    "    # 输出统计报告\n",
    "    logger.info(\"晶面分布分析：\")\n",
    "    logger.info(f\"{'晶面':<9} {'Y范围':<10} {'原子数':<8} {'X平均':<7} {'Y平均':<7} {'Z平均':<7}\")\n",
    "    for r in results:\n",
    "        logger.info(f\"{r['plane']:03d}  [{r['y_range'][0]:<7.3f}, {r['y_range'][1]:>7.3f}]  \"\n",
    "              f\"{r['atom_count']:<8}  {r['x_mean']:.3f}    {r['y_mean']:.3f}    {r['z_mean']:.3f}\")\n",
    "\n",
    "# 使用示例\n",
    "if __name__ == \"__main__\":\n",
    "    # 示例数据生成\n",
    "    np.random.seed(42)\n",
    "    y_base = np.arange(-5, 6) * 3.9127  # 生成理论晶面\n",
    "    y_noise = np.random.uniform(-0.05, 0.05, 1000)  # 添加微小扰动\n",
    "    \n",
    "    sample_data = np.column_stack([\n",
    "        np.ones(1000)*3,                # 原子类型\n",
    "        np.random.rand(1000)*10,        # x坐标 \n",
    "        y_base[np.random.randint(0, 11, 1000)] + y_noise,  # y坐标\n",
    "        np.random.rand(1000)*10         # z坐标\n",
    "    ])\n",
    "    \n",
    "    process_polarization(data_frame)\n"
   ]
  },
  {
   "cell_type": "code",
   "execution_count": 35,
   "metadata": {},
   "outputs": [
    {
     "name": "stdout",
     "output_type": "stream",
     "text": [
      "[\u001b[32m2025-02-18 08:41:17.235308\u001b[0m \u001b[1m\u001b[97mINFO   \u001b[0m] \u001b[36m1008616772\u001b[0m:\u001b[36mread_frame\u001b[0m:\u001b[36m8\u001b[0m - \u001b[1m\u001b[97m读取文件: ./data/frames/frame_0.dat\u001b[0m\n"
     ]
    },
    {
     "data": {
      "text/plain": [
       "array([[  3.    ,   3.9049,   0.    ,  74.5303],\n",
       "       [  3.    ,   0.    ,   3.9049,  74.5303],\n",
       "       [  3.    ,   0.    ,   0.    ,  74.5303],\n",
       "       ...,\n",
       "       [  3.    , 152.291 ,  74.1931,   0.    ],\n",
       "       [  3.    , 152.291 ,  70.2882,   0.    ],\n",
       "       [  3.    , 148.386 ,  74.1931,   0.    ]])"
      ]
     },
     "execution_count": 35,
     "metadata": {},
     "output_type": "execute_result"
    }
   ],
   "source": [
    "import numpy as np\n",
    "from caesar.logger.logger import setup_logger\n",
    "\n",
    "logger = setup_logger(__name__)\n",
    "\n",
    "def read_frame(file_path):\n",
    "    with open(file_path, 'r') as f:\n",
    "        logger.info(f\"读取文件: {file_path}\")\n",
    "        data = []\n",
    "        for line in f.readlines():\n",
    "            values = line.strip().split()\n",
    "            if values and float(values[0]) == 3:  # 判断第一个元素是否为3\n",
    "                data.append([float(i) for i in values])\n",
    "    return np.array(data)\n",
    "\n",
    "\n",
    "frame_data=read_frame('./data/frames/frame_0.dat')\n",
    "\n",
    "# frame_data_y=frame_data[:,[2]]\n",
    "\n",
    "# frame_data_y\n",
    "frame_data"
   ]
  },
  {
   "cell_type": "code",
   "execution_count": 36,
   "metadata": {},
   "outputs": [
    {
     "name": "stdout",
     "output_type": "stream",
     "text": [
      "16000\n",
      "74.1931\n",
      "0.0\n",
      "3.709655\n"
     ]
    }
   ],
   "source": [
    "max_y=frame_data[:,[2]].max()\n",
    "min_y=frame_data[:,[2]].min()\n",
    "print(len(frame_data))\n",
    "print(max_y)\n",
    "print(min_y)\n",
    "print(max_y/20)"
   ]
  },
  {
   "cell_type": "code",
   "execution_count": 33,
   "metadata": {},
   "outputs": [
    {
     "data": {
      "text/plain": [
       "<matplotlib.collections.PathCollection at 0x237c60da190>"
      ]
     },
     "execution_count": 33,
     "metadata": {},
     "output_type": "execute_result"
    },
    {
     "data": {
      "image/png": "[encoded data removed]",
      "text/plain": [
       "<Figure size 1500x200 with 1 Axes>"
      ]
     },
     "metadata": {},
     "output_type": "display_data"
    }
   ],
   "source": [
    "import matplotlib.pyplot as plt\n",
    "\n",
    "y_aixs=[0 for _ in range(16000)]\n",
    "\n",
    "plt.figure(figsize=(15,2))\n",
    "\n",
    "plt.scatter(frame_data[:,[2]],y_aixs,color='skyblue')"
   ]
  }
 ],
 "metadata": {
  "kernelspec": {
   "display_name": "Python 3",
   "language": "python",
   "name": "python3"
  },
  "language_info": {
   "codemirror_mode": {
    "name": "ipython",
    "version": 3
   },
   "file_extension": ".py",
   "mimetype": "text/x-python",
   "name": "python",
   "nbconvert_exporter": "python",
   "pygments_lexer": "ipython3",
   "version": "3.9.21"
  }
 },
 "nbformat": 4,
 "nbformat_minor": 2
}
