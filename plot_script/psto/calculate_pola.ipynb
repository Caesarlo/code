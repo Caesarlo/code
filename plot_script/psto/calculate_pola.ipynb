{
 "cells": [
  {
   "cell_type": "code",
   "execution_count": null,
   "metadata": {},
   "outputs": [],
   "source": [
    "import numpy as np\n",
    "\n",
    "# 参数设置\n",
    "Z_star = {\n",
    "    \"Sr\": +2.6,   # 各向同性近似，实际应为张量\n",
    "    \"Ti\": +7.3,\n",
    "    \"O\":  -5.8,\n",
    "}\n",
    "Omega = 60.0  # 晶胞体积 (Å³)\n",
    "e = 1.602e-19  # 元电荷 (C)\n",
    "\n",
    "# 读取参考结构和当前结构的原子坐标（需处理周期性）\n",
    "# 假设已加载数据：ref_positions, current_positions, atom_types\n",
    "\n",
    "# 计算位移（考虑周期性）\n",
    "displacements = []\n",
    "for r_ref, r_curr in zip(ref_positions, current_positions):\n",
    "    dr = r_curr - r_ref\n",
    "    # 应用最小镜像约定（假设正交晶胞）\n",
    "    for dim in range(3):\n",
    "        L = current_box[dim]  # 当前晶胞长度\n",
    "        if dr[dim] > L/2:\n",
    "            dr[dim] -= L\n",
    "        elif dr[dim] < -L/2:\n",
    "            dr[dim] += L\n",
    "    displacements.append(dr)\n",
    "\n",
    "# 计算极化\n",
    "P = np.zeros(3)\n",
    "for atom_type, dr in zip(atom_types, displacements):\n",
    "    Z = Z_star[atom_type]\n",
    "    P += Z * np.array(dr)\n",
    "\n",
    "P *= (e / Omega) * 1e8  # 转换为 C·m⁻²（1 Å³ = 1e-30 m³，1 Å = 1e-10 m）\n",
    "print(\"极化矢量 (C/m²):\", P)\n"
   ]
  }
 ],
 "metadata": {
  "kernelspec": {
   "display_name": "Python 3",
   "language": "python",
   "name": "python3"
  },
  "language_info": {
   "name": "python",
   "version": "3.9.21"
  }
 },
 "nbformat": 4,
 "nbformat_minor": 2
}
